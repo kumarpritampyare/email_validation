{
 "cells": [
  {
   "cell_type": "markdown",
   "id": "fc5b9e5c",
   "metadata": {},
   "source": [
    "# validate E-Mail Address"
   ]
  },
  {
   "cell_type": "code",
   "execution_count": 12,
   "id": "9b7a6f53",
   "metadata": {},
   "outputs": [
    {
     "name": "stdout",
     "output_type": "stream",
     "text": [
      "Enter your Email : gmail.com\n",
      "wrong Emial 3 \n"
     ]
    }
   ],
   "source": [
    "email = input(\"Enter your Email : \")\n",
    "k,j,d=0,0,0\n",
    "if len(email) >= 6:\n",
    "    if email[0].isalpha():\n",
    "        if (\"@\" in email) and (email.count(\"@\") == 1): #wrong 3\n",
    "            if (email[-4]==\".\") ^ (email[-3] == \".\"):  #wrong 4\n",
    "                for i in email:\n",
    "                    if i== i.isspace():   #wrong 5\n",
    "                        k=1\n",
    "                    elif i.isalpha():\n",
    "                        if i == i.upper():   #w-- W==w   wrong 5\n",
    "                            j=1\n",
    "                    elif i.isdigit():\n",
    "                        continue\n",
    "                    elif i==\"_\" or i==\".\" or i==\"@\":\n",
    "                        continue\n",
    "                    else:   # wrong 5\n",
    "                        d =1\n",
    "                \n",
    "                if k==1 or j==1 or d==1:\n",
    "                    print(\"wrong Email 5 \")\n",
    "                \n",
    "            else:\n",
    "                print(\"wrong Email 4 \")\n",
    "                \n",
    "        else:\n",
    "            print(\"wrong Emial 3 \")\n",
    "        \n",
    "    else:\n",
    "        print(\"wrong Email 2 \")\n",
    "    \n",
    "else:\n",
    "    print(\"wrong Email 1 \")"
   ]
  },
  {
   "cell_type": "code",
   "execution_count": null,
   "id": "338953b0",
   "metadata": {},
   "outputs": [],
   "source": []
  }
 ],
 "metadata": {
  "kernelspec": {
   "display_name": "Python 3 (ipykernel)",
   "language": "python",
   "name": "python3"
  },
  "language_info": {
   "codemirror_mode": {
    "name": "ipython",
    "version": 3
   },
   "file_extension": ".py",
   "mimetype": "text/x-python",
   "name": "python",
   "nbconvert_exporter": "python",
   "pygments_lexer": "ipython3",
   "version": "3.11.5"
  }
 },
 "nbformat": 4,
 "nbformat_minor": 5
}
